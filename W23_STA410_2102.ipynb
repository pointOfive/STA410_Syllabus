{
 "cells": [
  {
   "cell_type": "markdown",
   "metadata": {
    "id": "LMB1rVXQ29bP"
   },
   "source": [
    "\n",
    "# $$\\text{STA}410  \\textit{ Statistical Computation } (\\text{L}5101 + \\text{L}2501)$$\n",
    "# $$\\text{STA}2102 \\textit{ Computational Techniques in Statistics } (\\text{L}0201)$$\n",
    "# $$ \\text{Winter } 2023 \\text{ | Scott Schwartz}$$\n"
   ]
  },
  {
   "cell_type": "markdown",
   "metadata": {
    "id": "Smh14Gze61ha"
   },
   "source": [
    "--- \n",
    "## Typical Weekly Schedule $\\require{bbding}$\n",
    "\n",
    "| | Mon | Tue | Wed | Thu | Fri | Sat | Sun |\n",
    "|-|:-:|:-:|:-:|:-:|:-:|:-:|:-:|\n",
    "|Complete Prereading ($\\sim$3 hours) | $\\checkmark$ | $\\checkmark$ | $\\checkmark$ |\n",
    "|Complete Programming ($\\sim$4 hours) | | | $\\checkmark$ | $\\checkmark$ | $\\checkmark$ | $\\checkmark$ | $\\checkmark$ |\n",
    "|**Discussion** $\\;\\;$ **[MS](https://map.utoronto.ca/?id=1809#!m/494491?s/) [3154](https://lsm.utoronto.ca/ws/f?p=210:1:::::P1_BLDG,P1_ROOM:MS) 6:10—9 PM ET** | | | $\\checkmark$ | \n",
    "|**Office Hour** $\\;\\,$ **[MS](https://map.utoronto.ca/?id=1809#!m/494491?s/) [3154](https://lsm.utoronto.ca/ws/f?p=210:1:::::P1_BLDG,P1_ROOM:MS) 9-10 PM ET** | | | $\\checkmark$ | \n",
    "|**Office Hour** $\\;\\,$ [**zoom**](https://utoronto.zoom.us/j/2910373742) **5-7 PM ET** | | | | | $\\checkmark$ |\n",
    "| Programming **Due Sunday 11:59 PM ET** | | |   |   |   |   | $\\checkmark$ |"
   ]
  },
  {
   "cell_type": "markdown",
   "metadata": {
    "id": "54Fjp5z264Bk"
   },
   "source": [
    "---\n",
    "## Assignments\n",
    "\n",
    "|| Due Weekly | On Feb 15 and Apr 5 | On Mar 1| TBA |\n",
    "|-|-|-|-|-|\n",
    "|| **Programming Assignments** | **Coding Challenges** | **Midterm Exam**  | **Final Exam**  |\n",
    "|STA130/STA2102| 28% = 4\\% $\\times$  7 (best of 9) | 32% = 16%+16% | 20% | 20%|\n",
    "|STA2102 Optional | 42% = 6\\% $\\times$ 7 (best of 9) | 32% = 16%+16% | 13% | 13%|\n",
    "\n",
    "---\n",
    "## Course Policies\n",
    "\n",
    "\n",
    "|**Programming Assignments**| |\n",
    "|-:|-|\n",
    "|**Late Enrolments**|Week 1-4 **Programming Assignments** may be submitted LATE by Feb 12, 11:59 PM ET with permission from sta410@utoronto.ca $\\hspace{.9cm}$|\n",
    "|**Sickness**|The highest 7 of 9 **Programming Assignments** scores are used and there are no due date extensions for sickness|\n",
    "\n",
    "|**Illness Absence Declaration**| |\n",
    "|-:|-|\n",
    "|**Feb 15 Coding Challenge**| will be reweighted to the ***Midterm*** if an [illness declaration](http://www.illnessverification.utoronto.ca/index.php) is submitted through ACORN and forwarded to sta410@utoronto.ca by Feb 15 |\n",
    "|**Apr 5 Coding Challenge**| will be reweighted to the ***Final*** if an [illness declaration](http://www.illnessverification.utoronto.ca/index.php) is submitted through ACORN and forwarded to sta410@utoronto.ca by Apr 5 |\n",
    "|**Mar 1 Midterm Exam**| will be reweighted to the ***Final*** if an [illness declaration](http://www.illnessverification.utoronto.ca/index.php) is submitted through ACORN and forwarded to sta410@utoronto.ca by Mar 1 |\n",
    "|**Final Exam**| [Petitions for Deferred ***Final Exams*** may be submitted to FAS](https://www.artsci.utoronto.ca/current/faculty-registrar/petitions/deferred-exams) |\n",
    "\n",
    "|**Accomodations/Exceptions**| |\n",
    "|-:|-|\n",
    "|**Accomodations**|For course accomodations please contact [Accessibility Services](https://studentlife.utoronto.ca/department/accessibility-services/) or your [College Registrar](https://www.artsci.utoronto.ca/current/academic-advising-and-support/college-registrars-offices) and alert sta410@utoronto.ca $\\hspace{2cm}$|\n",
    "|**Exceptional Circumstances**| For exceptional circumstances please contact your [College Registrar](https://www.artsci.utoronto.ca/current/academic-advising-and-support/college-registrars-offices)|\n",
    "\n",
    "\n",
    "\n",
    "\n",
    "---\n",
    "## Grading\n",
    "\n",
    "| | 0 ‐ 49%|50 ‐ 52%|  53 ‐ 56%| 57 ‐ 59%| 60 ‐ 62%| 63 ‐ 66%|  67 ‐ 69%| 70 ‐ 72% | 73 ‐ 76% | 77 ‐ 79% | 80 ‐ 84% | 85 ‐ 100% |  \n",
    "|-  |-  |-  |-  |-  |-  |-  |-  |-  |-  |-  |-  |  -|\n",
    "|[GPA](https://governingcouncil.utoronto.ca/secretariat/policies/grading-practices-policy-university-assessment-and-january-1-2020)|0.0|0.7|1.0|1.3|1.7|2.0|2.3|2.7|3.0|3.3|3.7|4.0|\n",
    "||STA410|STA410||||| STA2102|STA2102|\n",
    "||Failing|Passing || ||| Failing|Passing|\n"
   ]
  },
  {
   "cell_type": "markdown",
   "metadata": {
    "id": "fiCs8GBr8d9H"
   },
   "source": [
    "---\n",
    "\n",
    "## Course Topics and Dates\n",
    "\n",
    "| | | Discussion Topics / Programming Topics (28%) | Programming Due | | \n",
    "|-|-|-|-|-|\n",
    "|Week 1 |Jan 9-11 | Syllabus, Floating-Point,  Pseudorandomness | \n",
    "| |Jan 11-15 | Integer Bit Representation, Modulus Recursion | Jan 15, 11:59 PM ET |\n",
    "|Week 2 |Jan 16-18 | Floating-Point Density, Numeric Errors, Tricks|\n",
    "| | Jan 18-22 | Sum Roundoff Error, Catastrophic Cancellation| Jan 22, 11:59 PM ET | [Jan 22 Last Day to Enrol](https://www.artsci.utoronto.ca/current/dates-deadlines/academic-dates) \n",
    "|Week 3 |Jan 23-25 | Singular Values, PCA/PCR, Condition, $Ax\\!=\\!b$| \n",
    "| | Jan 25-29 | Gram-Schmidt, Cholesky Factor Decomposition | Jan 29, 11:59 PM ET  |\n",
    "|Week 4 |Jan 30 - Feb 1 | Algorithmic Speed, $X\\hat \\beta \\! \\approx \\! y$, Iterative Methods | |\n",
    "| | Feb 1-5 | Convolution Counting, Automatic Differentiation | Feb 5, 11:59 PM ET |  **Week 1-4 Programming** | \n",
    "|Week 5|Feb 6-8 | Vector/Function Spaces, More on $X\\hat \\beta \\! \\approx \\! y$, FFT | | **May be submitted LATE** |\n",
    "| | Feb 8-12 | Interpolation, Radix-2 FFT Recursive Algorithm| Feb 12-19, 11:59 PM ET | **by Feb 12, 11:59 PM ET** |\n",
    "| |\n",
    "|Week 6 | Feb 15 | 6-9 PM ET **In-Person Coding Challenge (16%)** |\n",
    "| |**In-Person**| You may use your laptop in **[MS](https://map.utoronto.ca/?id=1809#!m/494491?s/) [3154](https://lsm.utoronto.ca/ws/f?p=210:1:::::P1_BLDG,P1_ROOM:MS)** (n=250) or | an [IIT Lab Workstation](https://q.utoronto.ca/courses/257047)| in [**SS561**](https://q.utoronto.ca/courses/257047/pages/lab-calendars) (n=49) <!-- (Feb 15, 2023 and April 5, 2023 at 6-9pm) CR325(n=30), RW109(n=24), RW107(n=20)-->|\n",
    "| |\n",
    "|Week 7|Feb 20-25| READING WEEK |\n",
    "| |\n",
    "|Week 8 |Mar 1 | 6-9 PM ET  **In-Person Midterm Exam (20%)** |\n",
    "| | **In-Person** | **[MS](https://map.utoronto.ca/?id=1809#!m/494491?s/) [3154](https://lsm.utoronto.ca/ws/f?p=210:1:::::P1_BLDG,P1_ROOM:MS)** (n=250)| \n",
    "| |\n",
    "| Week 9 |Mar 6-8 |  Optimization, Information, Variational Inference | \n",
    "| |  Mar 8-12 | Newton's Method, Fixed-Point Iteration Methods | Mar 12, 11:59 PM ET |\n",
    "| Week 10 |Mar 13-15 | Fisher Scoring, Non-$L_2$ Loss, More Optimization | |\n",
    "| |Mar 15-19 | Iteratively Reweighted LS, nonlinear Gauss-Seidel | Mar 19, 11:59 PM ET | [Mar 19 Last Day to Drop](https://www.artsci.utoronto.ca/current/dates-deadlines/academic-dates)\n",
    "| Week 11 |Mar 20-22 |  Integral Approximation and Estimation, Sampling| |\n",
    "| |Mar 22-26 | TBA| Mar 26, 5:00 PM ET |\n",
    "| Week 12 |Mar 27-29 | MCMC, Gibbs, Metropolis-Hastings, Hamiltonian |  |\n",
    "| | Mar 29 - Apr 2  | TBA | Apr 2, 11:59 PM ET\n",
    "| |\n",
    "|Week 13 | Apr 5 | 6-9 PM ET **In-Person Coding Challenge (16%)** | | [Apr 6 Last Day to CR/NCR](https://www.artsci.utoronto.ca/current/dates-deadlines/academic-dates)\n",
    "| |**In-Person**| You may use your laptop in **[MS](https://map.utoronto.ca/?id=1809#!m/494491?s/) [3154](https://lsm.utoronto.ca/ws/f?p=210:1:::::P1_BLDG,P1_ROOM:MS)** (n=250) or | an [IIT Lab Workstation](https://q.utoronto.ca/courses/257047)| in [**SS561**](https://q.utoronto.ca/courses/257047/pages/lab-calendars) (n=49) <!-- (Feb 15, 2023 and April 5, 2023 at 6-9pm) CR325(n=30), RW109(n=24), RW107(n=20)-->|\n",
    "| |\n",
    "| | [Apr 11-28 TBA](https://artsci.calendar.utoronto.ca/sessional-dates) | **In-Person**  **Final Exam (20%)** |"
   ]
  },
  {
   "cell_type": "markdown",
   "metadata": {
    "id": "0zQD3qw49oTH"
   },
   "source": [
    "---\n",
    "## Course Components\n",
    "\n",
    "| | | |\n",
    "|-|-|-|\n",
    "|[Quercus Course Page](https://q.utoronto.ca/courses/244990/announcements) | Announcements are made in Quercus  | Quercus will link additional course resources |\n",
    "| [Markus](https://markus-ds.teach.cs.toronto.edu/) | Programming Assignments Submissions |  Marking and regrades will be done in Markus |\n",
    "| [UofT Jupyterhub](https://jupyter.utoronto.ca/) | [Course Cloud Coding Environment](https://act.utoronto.ca/jupyterhub-support/) | Requires a UofT UTORid\n",
    "| [Google Colab](https://colab.research.google.com) | Course Cloud Coding Environment | Requires a private google account |\n",
    "| [IIT Computer Labs](https://q.utoronto.ca/courses/257047) | Drop in workstations [**SS561**](https://q.utoronto.ca/courses/257047/pages/lab-calendars) (n=49)| [CR325(n=30), RW109(n=24), RW107(n=20)](https://q.utoronto.ca/courses/257047/pages/lab-calendars) \n",
    "| In-Person Lecture | **[MS](https://map.utoronto.ca/?id=1809#!m/494491?s/) [3154](https://lsm.utoronto.ca/ws/f?p=210:1:::::P1_BLDG,P1_ROOM:MS)**  Wed 6:10—9:00 PM ET | **WILL NOT BE RECORDED** |\n",
    "| In-Person Office Hour | **[MS](https://map.utoronto.ca/?id=1809#!m/494491?s/) [3154](https://lsm.utoronto.ca/ws/f?p=210:1:::::P1_BLDG,P1_ROOM:MS)**  Wed 9:00—10:00 PM ET | **WILL NOT BE RECORDED** |\n",
    "| Online Office Hours | [**zoom**](https://utoronto.zoom.us/j/2910373742) Friday 5-7 PM ET | **WILL NOT BE RECORDED** |\n",
    "| [Discussion Board](https://piazza.com/utoronto.ca/winter2023/sta410)  | ~1-2 weekday (only) response time| All non-private course communication |\n",
    "| sta410@utoronto.ca | ~1-2 day weekday (only) response time | **Private course communication ONLY** |\n",
    "| Coding Challenges | Wed 6:10—9:00 PM ET Feb 15 and Apr 5 | You may use your laptop in **[MS](https://map.utoronto.ca/?id=1809#!m/494491?s/) [3154](https://lsm.utoronto.ca/ws/f?p=210:1:::::P1_BLDG,P1_ROOM:MS)** (n=250) |\n",
    "| | | or an [IIT Lab Workstation](https://q.utoronto.ca/courses/257047) in [**SS561**](https://q.utoronto.ca/courses/257047/pages/lab-calendars) (n=49) |\n",
    "| Midterm Exam | **[MS](https://map.utoronto.ca/?id=1809#!m/494491?s/) [3154](https://lsm.utoronto.ca/ws/f?p=210:1:::::P1_BLDG,P1_ROOM:MS)** Wed 6:10—9:00 PM ET Mar 1  | |\n",
    "| Final Exam | TBA: will take place between Apr 11-28| |\n",
    "\n",
    "<!-- https://piazza.com/utoronto.ca/winter2022/sta4102102/home -->\n",
    "<!-- [FAS IIT](https://q.utoronto.ca/courses/257047) [SS561, CR325, RW109, or RW107](https://q.utoronto.ca/courses/257047/pages/lab-calendars) -->\n",
    "\n",
    "\n",
    "\n"
   ]
  },
  {
   "cell_type": "markdown",
   "metadata": {
    "id": "WBVMSeIU38PB"
   },
   "source": [
    "---\n",
    "## Course Design\n",
    "\n",
    "1. **Statistics is a desirable skill set, particularly in conjunction with coding ability**: this course gives you an opportunity to practice and build valuable `Python` (and coding) skills.\n",
    "\n",
    "  > `Python` is chosen instead of `R` for this course because \n",
    "  > - `Python` is more general purpose and ubiquitous\n",
    "  > - `Python` is more like low level programming languages (such as `C`, `C++`, and `Fortran`) \n",
    "  > - `Python` naturally supports computational algorithm development in addition to guided data analysis\n",
    "  >\n",
    "  > Students are expected to code via [UofT JupyterHub](https://jupyter.utoronto.ca) or [google colab](colab.research.google.com). Local `Python` installations ([conda](https://conda.io/projects/conda/en/latest/user-guide/install/index.html), [mamba](https://mamba.readthedocs.io/en/latest/installation.html#existing-conda-install), etc.) and other code editors (VSCode, PyCharm, Atom, pico/nano vi, emacs, etc.) will not be supported.\n",
    "\n",
    "2. **This course will be based on Q&A discussions and conversations, not lectures**: come to class ready to explain the material to other students, or ask clear questions for clarification. *Comfort with self-learning will lead to professional success and helps create new opportunities. Communication ability is extremely important for career progression.*\n",
    "  \n",
    "  > Students are expected to read and understand the course material to the best of their ability prior to coming to class, and then practice their communication skills during class. \n",
    "  > The course notes for each week will include a sufficiently self-contained and complete synthesis of selected material from\n",
    "  >   - [**Computational Statistics**](https://librarysearch.library.utoronto.ca/permalink/01UTORONTO_INST/14bjeso/alma991106901422406196) by James E. Gentle (Springer)\n",
    "  >   - [**Computational Statistics**](https://librarysearch.library.utoronto.ca/permalink/01UTORONTO_INST/14bjeso/alma991106781097906196) (Second Edition) by G. H. Givens and J. A. Hoeting (Wiley)\n",
    "  >   - Previous STA410/2102 course notes from Keith Knight\n",
    "\n",
    "3. **Less is more, as this course is interested in building foundations:** we'll cover numeric pitfalls, fundamental linear algebra topics, least squares and beyond, the foundations of modern differentiation-based optimization, and estimation-based integration with MCMC.\n",
    "\n",
    "  > The empahsis firstly on foundations and then on modern differentiation and integration topics is made **at the expense** of several topics typially found in a ***Statistical Computation*** course\n",
    "  >\n",
    "  > - Select linear algebra topics, e.g., sparse matrices, fast hadamard transforms, randomized numerical linear algebra\n",
    "  > - Sampling from specific statistical distributions and nonparametric inference with bootstrapping \n",
    "  > - Combinatorial (discrete) optimzation, e.g., with simulated annealing\n",
    "  > - Constrained optimization, e.g., Lagrange multipliers, and interior and exterior point algorithms (e.g., for quantile regression)\n",
    "  > - Expectation/minorization-maximization, e.g., for censoring and mixture models\n",
    "  >\n",
    "  > but the successful student of this course would certainly be capable (and encouraged) to pursue these topics upon completion of the course."
   ]
  }
 ],
 "metadata": {
  "colab": {
   "provenance": []
  },
  "kernelspec": {
   "display_name": "Python 3 (ipykernel)",
   "language": "python",
   "name": "python3"
  },
  "language_info": {
   "codemirror_mode": {
    "name": "ipython",
    "version": 3
   },
   "file_extension": ".py",
   "mimetype": "text/x-python",
   "name": "python",
   "nbconvert_exporter": "python",
   "pygments_lexer": "ipython3",
   "version": "3.9.5"
  }
 },
 "nbformat": 4,
 "nbformat_minor": 1
}
